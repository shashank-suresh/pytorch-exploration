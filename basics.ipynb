{
 "cells": [
  {
   "cell_type": "markdown",
   "id": "7d22a677",
   "metadata": {},
   "source": [
    "# Importing necessary libraries"
   ]
  },
  {
   "cell_type": "code",
   "execution_count": 1,
   "id": "052f9e03",
   "metadata": {},
   "outputs": [],
   "source": [
    "import torch\n",
    "import numpy as np"
   ]
  },
  {
   "cell_type": "markdown",
   "id": "53a60957",
   "metadata": {},
   "source": [
    "# Tensor Basics"
   ]
  },
  {
   "cell_type": "markdown",
   "id": "5165638c",
   "metadata": {},
   "source": [
    "## Initializing a tensor"
   ]
  },
  {
   "cell_type": "markdown",
   "id": "0f9ae9c4",
   "metadata": {},
   "source": [
    "### Creating a tensor directly from data"
   ]
  },
  {
   "cell_type": "code",
   "execution_count": 7,
   "id": "93e5c0de",
   "metadata": {},
   "outputs": [],
   "source": [
    "data = [ [1, 2], [3, 4] ]\n",
    "x_data = torch.tensor(data)"
   ]
  },
  {
   "cell_type": "code",
   "execution_count": 9,
   "id": "3f907c3d",
   "metadata": {},
   "outputs": [
    {
     "data": {
      "text/plain": [
       "tensor([[1, 2],\n",
       "        [3, 4]])"
      ]
     },
     "execution_count": 9,
     "metadata": {},
     "output_type": "execute_result"
    }
   ],
   "source": [
    "x_data"
   ]
  },
  {
   "cell_type": "markdown",
   "id": "7faa7435",
   "metadata": {},
   "source": [
    "\n",
    "### Creating a tensor from a NumPy array"
   ]
  },
  {
   "cell_type": "code",
   "execution_count": 8,
   "id": "aa93a23a",
   "metadata": {},
   "outputs": [],
   "source": [
    "np_array = np.array(data) # Taken from previous cell\n",
    "x_np = torch.from_numpy(np_array)"
   ]
  },
  {
   "cell_type": "code",
   "execution_count": 10,
   "id": "1b867ed8",
   "metadata": {},
   "outputs": [
    {
     "data": {
      "text/plain": [
       "tensor([[1, 2],\n",
       "        [3, 4]])"
      ]
     },
     "execution_count": 10,
     "metadata": {},
     "output_type": "execute_result"
    }
   ],
   "source": [
    "x_np"
   ]
  },
  {
   "cell_type": "markdown",
   "id": "901acc67",
   "metadata": {},
   "source": [
    "### Creating a tensor from another tensor"
   ]
  },
  {
   "cell_type": "markdown",
   "id": "dd6d968f",
   "metadata": {},
   "source": [
    "Tensors created from other tensors retain the **shape** and **datatype** of tha original tensor, unless explicity overridden"
   ]
  },
  {
   "cell_type": "code",
   "execution_count": 11,
   "id": "93e1a884",
   "metadata": {},
   "outputs": [],
   "source": [
    "x_ones = torch.ones_like(x_data) # Retains the properties of x_data\n",
    "x_rand = torch.rand_like(x_data, dtype=torch.float) # Override the datatype of x_data using 'dtype' arg"
   ]
  },
  {
   "cell_type": "code",
   "execution_count": 12,
   "id": "d87bf5a6",
   "metadata": {},
   "outputs": [
    {
     "data": {
      "text/plain": [
       "tensor([[1, 1],\n",
       "        [1, 1]])"
      ]
     },
     "execution_count": 12,
     "metadata": {},
     "output_type": "execute_result"
    }
   ],
   "source": [
    "x_ones"
   ]
  },
  {
   "cell_type": "code",
   "execution_count": 13,
   "id": "f995ca73",
   "metadata": {},
   "outputs": [
    {
     "data": {
      "text/plain": [
       "tensor([[0.5252, 0.3421],\n",
       "        [0.8477, 0.4756]])"
      ]
     },
     "execution_count": 13,
     "metadata": {},
     "output_type": "execute_result"
    }
   ],
   "source": [
    "x_rand"
   ]
  },
  {
   "cell_type": "markdown",
   "id": "d3196f0d",
   "metadata": {},
   "source": [
    "### Creating a tensor from random or constant values"
   ]
  },
  {
   "cell_type": "markdown",
   "id": "2d4317a9",
   "metadata": {},
   "source": [
    "**shape** is a tuple of tensor dimensions and determines the dimensionality of tensors in some functions"
   ]
  },
  {
   "cell_type": "code",
   "execution_count": 26,
   "id": "00fa0587",
   "metadata": {},
   "outputs": [],
   "source": [
    "shape = (2, 3,) # Common practice to include trailing commas to make editing easier\n",
    "rand_tensor = torch.rand(shape)\n",
    "ones_tensor = torch.ones(shape)\n",
    "zeros_tensor = torch.zeros(shape)"
   ]
  },
  {
   "cell_type": "code",
   "execution_count": 27,
   "id": "f85e6fb3",
   "metadata": {},
   "outputs": [
    {
     "data": {
      "text/plain": [
       "tensor([[0.8527, 0.1707, 0.2751],\n",
       "        [0.7248, 0.1385, 0.7052]])"
      ]
     },
     "execution_count": 27,
     "metadata": {},
     "output_type": "execute_result"
    }
   ],
   "source": [
    "rand_tensor"
   ]
  },
  {
   "cell_type": "code",
   "execution_count": 28,
   "id": "b83859a3",
   "metadata": {},
   "outputs": [
    {
     "data": {
      "text/plain": [
       "tensor([[1., 1., 1.],\n",
       "        [1., 1., 1.]])"
      ]
     },
     "execution_count": 28,
     "metadata": {},
     "output_type": "execute_result"
    }
   ],
   "source": [
    "ones_tensor"
   ]
  },
  {
   "cell_type": "code",
   "execution_count": 29,
   "id": "5e48e376",
   "metadata": {},
   "outputs": [
    {
     "data": {
      "text/plain": [
       "tensor([[0., 0., 0.],\n",
       "        [0., 0., 0.]])"
      ]
     },
     "execution_count": 29,
     "metadata": {},
     "output_type": "execute_result"
    }
   ],
   "source": [
    "zeros_tensor"
   ]
  },
  {
   "cell_type": "markdown",
   "id": "b706d044",
   "metadata": {},
   "source": [
    "## Attributes of a Tensor"
   ]
  },
  {
   "cell_type": "markdown",
   "id": "08be70dd",
   "metadata": {},
   "source": [
    "Tensor attributes are:\n",
    "- shape\n",
    "- datatype\n",
    "- device (on which they are stored)"
   ]
  },
  {
   "cell_type": "code",
   "execution_count": 30,
   "id": "b3863471",
   "metadata": {},
   "outputs": [
    {
     "name": "stdout",
     "output_type": "stream",
     "text": [
      "Shape of tensor: torch.Size([3, 4])\n",
      "Datatype of tensor: torch.float32\n",
      "Device tensor is stored on: cpu\n"
     ]
    }
   ],
   "source": [
    "tensor = torch.rand(3, 4)\n",
    "\n",
    "print(f\"Shape of tensor: {tensor.shape}\")\n",
    "print(f\"Datatype of tensor: {tensor.dtype}\")\n",
    "print(f\"Device tensor is stored on: {tensor.device}\")"
   ]
  },
  {
   "cell_type": "markdown",
   "id": "52ad2688",
   "metadata": {},
   "source": [
    "## Tensor Operations"
   ]
  },
  {
   "cell_type": "markdown",
   "id": "17c8b18c",
   "metadata": {},
   "source": [
    "There are over [1200 operations](https://docs.pytorch.org/docs/stable/torch.html) one can perform on Tensors.\n",
    "\n",
    "By default, tensors are created on the CPU. Copying large tensors across devices can be expensive in terms of time and memory, but can be done using .to() after checking for accelerator availability using torch.accelerator.is_available()"
   ]
  },
  {
   "cell_type": "markdown",
   "id": "4ae737a7",
   "metadata": {},
   "source": [
    "## Standard operations (indexing, slicing, etc.)"
   ]
  },
  {
   "cell_type": "code",
   "execution_count": 34,
   "id": "f54a8bb2",
   "metadata": {},
   "outputs": [
    {
     "data": {
      "text/plain": [
       "tensor([[0.5097, 0.4606, 0.9900, 0.1226],\n",
       "        [0.0978, 0.2952, 0.8436, 0.6725],\n",
       "        [0.9641, 0.5846, 0.8267, 0.5915],\n",
       "        [0.2272, 0.8416, 0.2059, 0.7711]])"
      ]
     },
     "execution_count": 34,
     "metadata": {},
     "output_type": "execute_result"
    }
   ],
   "source": [
    "tensor = torch.rand(4, 4)\n",
    "tensor"
   ]
  },
  {
   "cell_type": "code",
   "execution_count": null,
   "id": "f0335fb9",
   "metadata": {},
   "outputs": [
    {
     "name": "stdout",
     "output_type": "stream",
     "text": [
      "First row: tensor([0.5097, 0.4606, 0.9900, 0.1226])\n",
      "First column: tensor([0.5097, 0.0978, 0.9641, 0.2272])\n",
      "Last column: tensor([0.1226, 0.6725, 0.5915, 0.7711])\n"
     ]
    },
    {
     "data": {
      "text/plain": [
       "tensor([[0.5097, 3.0000, 0.9900, 0.1226],\n",
       "        [0.0978, 3.0000, 0.8436, 0.6725],\n",
       "        [0.9641, 3.0000, 0.8267, 0.5915],\n",
       "        [0.2272, 3.0000, 0.2059, 0.7711]])"
      ]
     },
     "execution_count": 70,
     "metadata": {},
     "output_type": "execute_result"
    }
   ],
   "source": [
    "print(f\"First row: {tensor[0]}\")\n",
    "print(f\"First column: {tensor[:, 0]}\")\n",
    "print(f\"Last column: {tensor[..., -1]}\") # ... is used to represent all remaining dimensions\n",
    "\n",
    "# Modifying an entire column's values\n",
    "tensor[:, 1] = 3 # We modify the first column across all the rows\n",
    "tensor"
   ]
  },
  {
   "cell_type": "code",
   "execution_count": 71,
   "id": "bcf56556",
   "metadata": {},
   "outputs": [
    {
     "name": "stdout",
     "output_type": "stream",
     "text": [
      "torch.Size([3, 3, 3])\n"
     ]
    },
    {
     "data": {
      "text/plain": [
       "tensor([[[0.1455, 0.1241, 0.9978],\n",
       "         [0.5764, 0.5939, 0.0195],\n",
       "         [0.0198, 0.7018, 0.3710]],\n",
       "\n",
       "        [[0.6321, 0.3949, 0.7210],\n",
       "         [0.2410, 0.2942, 0.7565],\n",
       "         [0.9215, 0.8328, 0.2967]],\n",
       "\n",
       "        [[0.5821, 0.1368, 0.1275],\n",
       "         [0.3626, 0.4411, 0.9740],\n",
       "         [0.3256, 0.3238, 0.8430]]])"
      ]
     },
     "execution_count": 71,
     "metadata": {},
     "output_type": "execute_result"
    }
   ],
   "source": [
    "# A little more about '...'\n",
    "shape = (3, 3, 3, )\n",
    "n_tensor = torch.rand(shape)\n",
    "print(n_tensor.shape)\n",
    "n_tensor"
   ]
  },
  {
   "cell_type": "code",
   "execution_count": 78,
   "id": "a33a7b18",
   "metadata": {},
   "outputs": [
    {
     "name": "stdout",
     "output_type": "stream",
     "text": [
      "First row across the entire tensor:\n",
      "\n",
      " tensor([[0.1455, 0.1241, 0.9978],\n",
      "        [0.6321, 0.3949, 0.7210],\n",
      "        [0.5821, 0.1368, 0.1275]])\n",
      "\n",
      "\n",
      "The first layer of the tensor:\n",
      "\n",
      " tensor([[0.1455, 0.1241, 0.9978],\n",
      "        [0.5764, 0.5939, 0.0195],\n",
      "        [0.0198, 0.7018, 0.3710]])\n"
     ]
    }
   ],
   "source": [
    "print(f\"First row across the entire tensor:\\n\\n {n_tensor[:, 0, :]}\")\n",
    "print(f\"\\n\\nThe first layer of the tensor:\\n\\n {n_tensor[0, :, :]}\")"
   ]
  },
  {
   "cell_type": "markdown",
   "id": "f2173d78",
   "metadata": {},
   "source": [
    "We can simplify the retrieval of the first layer of the tensor by using '...'\n",
    "\n",
    "This currently doesn't seem like it's doing much, but when you're working with n-dimnensional tensors then retrieving the first layer (or the first of anything) would be a tedious process if you had to manually enter ':' for each one"
   ]
  },
  {
   "cell_type": "code",
   "execution_count": 75,
   "id": "d6512870",
   "metadata": {},
   "outputs": [
    {
     "data": {
      "text/plain": [
       "tensor([[0.1455, 0.1241, 0.9978],\n",
       "        [0.5764, 0.5939, 0.0195],\n",
       "        [0.0198, 0.7018, 0.3710]])"
      ]
     },
     "execution_count": 75,
     "metadata": {},
     "output_type": "execute_result"
    }
   ],
   "source": [
    "n_tensor[0, ...] # This returns the same thing as n_tensor[0, :, :]"
   ]
  },
  {
   "cell_type": "markdown",
   "id": "f773e519",
   "metadata": {},
   "source": [
    "### Joining Tensors"
   ]
  },
  {
   "cell_type": "code",
   "execution_count": 79,
   "id": "a5f33eee",
   "metadata": {},
   "outputs": [
    {
     "data": {
      "text/plain": [
       "tensor([[0.5097, 3.0000, 0.9900, 0.1226],\n",
       "        [0.0978, 3.0000, 0.8436, 0.6725],\n",
       "        [0.9641, 3.0000, 0.8267, 0.5915],\n",
       "        [0.2272, 3.0000, 0.2059, 0.7711]])"
      ]
     },
     "execution_count": 79,
     "metadata": {},
     "output_type": "execute_result"
    }
   ],
   "source": [
    "tensor"
   ]
  },
  {
   "cell_type": "code",
   "execution_count": 80,
   "id": "049c2e3e",
   "metadata": {},
   "outputs": [
    {
     "data": {
      "text/plain": [
       "tensor([[0.5097, 3.0000, 0.9900, 0.1226],\n",
       "        [0.0978, 3.0000, 0.8436, 0.6725],\n",
       "        [0.9641, 3.0000, 0.8267, 0.5915],\n",
       "        [0.2272, 3.0000, 0.2059, 0.7711],\n",
       "        [0.5097, 3.0000, 0.9900, 0.1226],\n",
       "        [0.0978, 3.0000, 0.8436, 0.6725],\n",
       "        [0.9641, 3.0000, 0.8267, 0.5915],\n",
       "        [0.2272, 3.0000, 0.2059, 0.7711]])"
      ]
     },
     "execution_count": 80,
     "metadata": {},
     "output_type": "execute_result"
    }
   ],
   "source": [
    "cc_tensor = torch.cat([tensor, tensor])\n",
    "cc_tensor"
   ]
  },
  {
   "cell_type": "markdown",
   "id": "7ab25d22",
   "metadata": {},
   "source": [
    "By default we join tensors by the 0th dimension (we append the next tensor row-wise in case of 2D tensors). We can change the dimension by specifying the 'dim' arg."
   ]
  },
  {
   "cell_type": "code",
   "execution_count": 81,
   "id": "4db2cf7a",
   "metadata": {},
   "outputs": [
    {
     "data": {
      "text/plain": [
       "tensor([[0.5097, 3.0000, 0.9900, 0.1226, 0.5097, 3.0000, 0.9900, 0.1226],\n",
       "        [0.0978, 3.0000, 0.8436, 0.6725, 0.0978, 3.0000, 0.8436, 0.6725],\n",
       "        [0.9641, 3.0000, 0.8267, 0.5915, 0.9641, 3.0000, 0.8267, 0.5915],\n",
       "        [0.2272, 3.0000, 0.2059, 0.7711, 0.2272, 3.0000, 0.2059, 0.7711]])"
      ]
     },
     "execution_count": 81,
     "metadata": {},
     "output_type": "execute_result"
    }
   ],
   "source": [
    "cc_dim_tensor = torch.cat([tensor, tensor], dim=1)\n",
    "cc_dim_tensor"
   ]
  },
  {
   "cell_type": "markdown",
   "id": "91a1c2ba",
   "metadata": {},
   "source": [
    "torch.cat() applies along *existing* dimensions.\n",
    "\n",
    "torch.stack() applies along a *new* dimension."
   ]
  },
  {
   "cell_type": "code",
   "execution_count": null,
   "id": "ed4a3cef",
   "metadata": {},
   "outputs": [
    {
     "data": {
      "text/plain": [
       "tensor([[[0.5097, 3.0000, 0.9900, 0.1226],\n",
       "         [0.0978, 3.0000, 0.8436, 0.6725],\n",
       "         [0.9641, 3.0000, 0.8267, 0.5915],\n",
       "         [0.2272, 3.0000, 0.2059, 0.7711]],\n",
       "\n",
       "        [[0.5097, 3.0000, 0.9900, 0.1226],\n",
       "         [0.0978, 3.0000, 0.8436, 0.6725],\n",
       "         [0.9641, 3.0000, 0.8267, 0.5915],\n",
       "         [0.2272, 3.0000, 0.2059, 0.7711]]])"
      ]
     },
     "execution_count": 82,
     "metadata": {},
     "output_type": "execute_result"
    }
   ],
   "source": [
    "s_tensor = torch.stack([tensor, tensor]) # This adds a new \"depth\" dimension to our 2D matrix and makes it a 3D matrix\n",
    "s_tensor"
   ]
  },
  {
   "cell_type": "markdown",
   "id": "2b5964d0",
   "metadata": {},
   "source": [
    "The 'dim' arg applies to stack as well and determines the way in which the cards are stacked"
   ]
  },
  {
   "cell_type": "code",
   "execution_count": 83,
   "id": "1ecdc110",
   "metadata": {},
   "outputs": [
    {
     "data": {
      "text/plain": [
       "tensor([[[0.5097, 3.0000, 0.9900, 0.1226],\n",
       "         [0.5097, 3.0000, 0.9900, 0.1226]],\n",
       "\n",
       "        [[0.0978, 3.0000, 0.8436, 0.6725],\n",
       "         [0.0978, 3.0000, 0.8436, 0.6725]],\n",
       "\n",
       "        [[0.9641, 3.0000, 0.8267, 0.5915],\n",
       "         [0.9641, 3.0000, 0.8267, 0.5915]],\n",
       "\n",
       "        [[0.2272, 3.0000, 0.2059, 0.7711],\n",
       "         [0.2272, 3.0000, 0.2059, 0.7711]]])"
      ]
     },
     "execution_count": 83,
     "metadata": {},
     "output_type": "execute_result"
    }
   ],
   "source": [
    "s1_tensor = torch.stack([tensor, tensor], dim=1)\n",
    "s1_tensor"
   ]
  },
  {
   "cell_type": "code",
   "execution_count": 84,
   "id": "ecb72639",
   "metadata": {},
   "outputs": [
    {
     "data": {
      "text/plain": [
       "tensor([[[0.5097, 0.5097],\n",
       "         [3.0000, 3.0000],\n",
       "         [0.9900, 0.9900],\n",
       "         [0.1226, 0.1226]],\n",
       "\n",
       "        [[0.0978, 0.0978],\n",
       "         [3.0000, 3.0000],\n",
       "         [0.8436, 0.8436],\n",
       "         [0.6725, 0.6725]],\n",
       "\n",
       "        [[0.9641, 0.9641],\n",
       "         [3.0000, 3.0000],\n",
       "         [0.8267, 0.8267],\n",
       "         [0.5915, 0.5915]],\n",
       "\n",
       "        [[0.2272, 0.2272],\n",
       "         [3.0000, 3.0000],\n",
       "         [0.2059, 0.2059],\n",
       "         [0.7711, 0.7711]]])"
      ]
     },
     "execution_count": 84,
     "metadata": {},
     "output_type": "execute_result"
    }
   ],
   "source": [
    "s2_tensor = torch.stack([tensor, tensor], dim=2)\n",
    "s2_tensor"
   ]
  },
  {
   "cell_type": "markdown",
   "id": "aaeca105",
   "metadata": {},
   "source": [
    "A simple way to visualize how they would be stacked is to take 2 index cards and:\n",
    "\n",
    "dim=0 : Place both flat on top of each other and look at the top-down view to identify the layers\n",
    "\n",
    "dim=1 : Place both cards standing and side-by-side along the width and look at the top-down view. Take the top half of the index cards as the first layer, and the bottom half as the second layer\n",
    "\n",
    "dim=2 : Similar to dim=1, but place it along the height now and do the same"
   ]
  },
  {
   "cell_type": "markdown",
   "id": "4b5e0d8e",
   "metadata": {},
   "source": [
    "Note that if you do dim=-1 then it would just be the last dimension (in our case dim=2)"
   ]
  },
  {
   "cell_type": "code",
   "execution_count": 85,
   "id": "6a513537",
   "metadata": {},
   "outputs": [
    {
     "data": {
      "text/plain": [
       "tensor([[[0.5097, 0.5097],\n",
       "         [3.0000, 3.0000],\n",
       "         [0.9900, 0.9900],\n",
       "         [0.1226, 0.1226]],\n",
       "\n",
       "        [[0.0978, 0.0978],\n",
       "         [3.0000, 3.0000],\n",
       "         [0.8436, 0.8436],\n",
       "         [0.6725, 0.6725]],\n",
       "\n",
       "        [[0.9641, 0.9641],\n",
       "         [3.0000, 3.0000],\n",
       "         [0.8267, 0.8267],\n",
       "         [0.5915, 0.5915]],\n",
       "\n",
       "        [[0.2272, 0.2272],\n",
       "         [3.0000, 3.0000],\n",
       "         [0.2059, 0.2059],\n",
       "         [0.7711, 0.7711]]])"
      ]
     },
     "execution_count": 85,
     "metadata": {},
     "output_type": "execute_result"
    }
   ],
   "source": [
    "slast_tensor = torch.stack([tensor, tensor], dim=-1)\n",
    "slast_tensor"
   ]
  },
  {
   "cell_type": "code",
   "execution_count": null,
   "id": "f6c7dcb0",
   "metadata": {},
   "outputs": [],
   "source": []
  }
 ],
 "metadata": {
  "kernelspec": {
   "display_name": "env",
   "language": "python",
   "name": "python3"
  },
  "language_info": {
   "codemirror_mode": {
    "name": "ipython",
    "version": 3
   },
   "file_extension": ".py",
   "mimetype": "text/x-python",
   "name": "python",
   "nbconvert_exporter": "python",
   "pygments_lexer": "ipython3",
   "version": "3.11.3"
  }
 },
 "nbformat": 4,
 "nbformat_minor": 5
}
