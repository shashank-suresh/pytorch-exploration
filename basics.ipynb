{
 "cells": [
  {
   "cell_type": "markdown",
   "id": "7d22a677",
   "metadata": {},
   "source": [
    "# Importing necessary libraries"
   ]
  },
  {
   "cell_type": "code",
   "execution_count": 175,
   "id": "052f9e03",
   "metadata": {},
   "outputs": [],
   "source": [
    "import os\n",
    "import pandas as pd\n",
    "import torch\n",
    "from torch.utils.data import Dataset, DataLoader\n",
    "from torchvision import datasets\n",
    "from torchvision.transforms import ToTensor\n",
    "from torchvision.io import decode_image\n",
    "import numpy as np\n",
    "import matplotlib.pyplot as plt"
   ]
  },
  {
   "cell_type": "markdown",
   "id": "53a60957",
   "metadata": {},
   "source": [
    "# Tensor Basics"
   ]
  },
  {
   "cell_type": "markdown",
   "id": "5165638c",
   "metadata": {},
   "source": [
    "## Initializing a tensor"
   ]
  },
  {
   "cell_type": "markdown",
   "id": "0f9ae9c4",
   "metadata": {},
   "source": [
    "### Creating a tensor directly from data"
   ]
  },
  {
   "cell_type": "code",
   "execution_count": 123,
   "id": "93e5c0de",
   "metadata": {},
   "outputs": [],
   "source": [
    "data = [ [1, 2], [3, 4] ]\n",
    "x_data = torch.tensor(data)"
   ]
  },
  {
   "cell_type": "code",
   "execution_count": 124,
   "id": "3f907c3d",
   "metadata": {},
   "outputs": [
    {
     "data": {
      "text/plain": [
       "tensor([[1, 2],\n",
       "        [3, 4]])"
      ]
     },
     "execution_count": 124,
     "metadata": {},
     "output_type": "execute_result"
    }
   ],
   "source": [
    "x_data"
   ]
  },
  {
   "cell_type": "markdown",
   "id": "7faa7435",
   "metadata": {},
   "source": [
    "\n",
    "### Creating a tensor from a NumPy array"
   ]
  },
  {
   "cell_type": "code",
   "execution_count": 125,
   "id": "aa93a23a",
   "metadata": {},
   "outputs": [],
   "source": [
    "np_array = np.array(data) # Taken from previous cell\n",
    "x_np = torch.from_numpy(np_array)"
   ]
  },
  {
   "cell_type": "code",
   "execution_count": 126,
   "id": "1b867ed8",
   "metadata": {},
   "outputs": [
    {
     "data": {
      "text/plain": [
       "tensor([[1, 2],\n",
       "        [3, 4]])"
      ]
     },
     "execution_count": 126,
     "metadata": {},
     "output_type": "execute_result"
    }
   ],
   "source": [
    "x_np"
   ]
  },
  {
   "cell_type": "markdown",
   "id": "901acc67",
   "metadata": {},
   "source": [
    "### Creating a tensor from another tensor"
   ]
  },
  {
   "cell_type": "markdown",
   "id": "dd6d968f",
   "metadata": {},
   "source": [
    "Tensors created from other tensors retain the **shape** and **datatype** of tha original tensor, unless explicity overridden"
   ]
  },
  {
   "cell_type": "code",
   "execution_count": 127,
   "id": "93e1a884",
   "metadata": {},
   "outputs": [],
   "source": [
    "x_ones = torch.ones_like(x_data) # Retains the properties of x_data\n",
    "x_rand = torch.rand_like(x_data, dtype=torch.float) # Override the datatype of x_data using 'dtype' arg"
   ]
  },
  {
   "cell_type": "code",
   "execution_count": 128,
   "id": "d87bf5a6",
   "metadata": {},
   "outputs": [
    {
     "data": {
      "text/plain": [
       "tensor([[1, 1],\n",
       "        [1, 1]])"
      ]
     },
     "execution_count": 128,
     "metadata": {},
     "output_type": "execute_result"
    }
   ],
   "source": [
    "x_ones"
   ]
  },
  {
   "cell_type": "code",
   "execution_count": 129,
   "id": "f995ca73",
   "metadata": {},
   "outputs": [
    {
     "data": {
      "text/plain": [
       "tensor([[0.3004, 0.3322],\n",
       "        [0.1191, 0.3209]])"
      ]
     },
     "execution_count": 129,
     "metadata": {},
     "output_type": "execute_result"
    }
   ],
   "source": [
    "x_rand"
   ]
  },
  {
   "cell_type": "markdown",
   "id": "d3196f0d",
   "metadata": {},
   "source": [
    "### Creating a tensor from random or constant values"
   ]
  },
  {
   "cell_type": "markdown",
   "id": "2d4317a9",
   "metadata": {},
   "source": [
    "**shape** is a tuple of tensor dimensions and determines the dimensionality of tensors in some functions"
   ]
  },
  {
   "cell_type": "code",
   "execution_count": 130,
   "id": "00fa0587",
   "metadata": {},
   "outputs": [],
   "source": [
    "shape = (2, 3,) # Common practice to include trailing commas to make editing easier\n",
    "rand_tensor = torch.rand(shape)\n",
    "ones_tensor = torch.ones(shape)\n",
    "zeros_tensor = torch.zeros(shape)"
   ]
  },
  {
   "cell_type": "code",
   "execution_count": 131,
   "id": "f85e6fb3",
   "metadata": {},
   "outputs": [
    {
     "data": {
      "text/plain": [
       "tensor([[0.4184, 0.7936, 0.6720],\n",
       "        [0.2501, 0.7241, 0.4333]])"
      ]
     },
     "execution_count": 131,
     "metadata": {},
     "output_type": "execute_result"
    }
   ],
   "source": [
    "rand_tensor"
   ]
  },
  {
   "cell_type": "code",
   "execution_count": 132,
   "id": "b83859a3",
   "metadata": {},
   "outputs": [
    {
     "data": {
      "text/plain": [
       "tensor([[1., 1., 1.],\n",
       "        [1., 1., 1.]])"
      ]
     },
     "execution_count": 132,
     "metadata": {},
     "output_type": "execute_result"
    }
   ],
   "source": [
    "ones_tensor"
   ]
  },
  {
   "cell_type": "code",
   "execution_count": 133,
   "id": "5e48e376",
   "metadata": {},
   "outputs": [
    {
     "data": {
      "text/plain": [
       "tensor([[0., 0., 0.],\n",
       "        [0., 0., 0.]])"
      ]
     },
     "execution_count": 133,
     "metadata": {},
     "output_type": "execute_result"
    }
   ],
   "source": [
    "zeros_tensor"
   ]
  },
  {
   "cell_type": "markdown",
   "id": "b706d044",
   "metadata": {},
   "source": [
    "## Attributes of a Tensor"
   ]
  },
  {
   "cell_type": "markdown",
   "id": "08be70dd",
   "metadata": {},
   "source": [
    "Tensor attributes are:\n",
    "- shape\n",
    "- datatype\n",
    "- device (on which they are stored)"
   ]
  },
  {
   "cell_type": "code",
   "execution_count": 134,
   "id": "b3863471",
   "metadata": {},
   "outputs": [
    {
     "name": "stdout",
     "output_type": "stream",
     "text": [
      "Shape of tensor: torch.Size([3, 4])\n",
      "Datatype of tensor: torch.float32\n",
      "Device tensor is stored on: cpu\n"
     ]
    }
   ],
   "source": [
    "tensor = torch.rand(3, 4)\n",
    "\n",
    "print(f\"Shape of tensor: {tensor.shape}\")\n",
    "print(f\"Datatype of tensor: {tensor.dtype}\")\n",
    "print(f\"Device tensor is stored on: {tensor.device}\")"
   ]
  },
  {
   "cell_type": "markdown",
   "id": "52ad2688",
   "metadata": {},
   "source": [
    "## Tensor Operations"
   ]
  },
  {
   "cell_type": "markdown",
   "id": "17c8b18c",
   "metadata": {},
   "source": [
    "There are over [1200 operations](https://docs.pytorch.org/docs/stable/torch.html) one can perform on Tensors.\n",
    "\n",
    "By default, tensors are created on the CPU. Copying large tensors across devices can be expensive in terms of time and memory, but can be done using .to() after checking for accelerator availability using torch.accelerator.is_available()"
   ]
  },
  {
   "cell_type": "markdown",
   "id": "4ae737a7",
   "metadata": {},
   "source": [
    "## Standard operations (indexing, slicing, etc.)"
   ]
  },
  {
   "cell_type": "code",
   "execution_count": 135,
   "id": "f54a8bb2",
   "metadata": {},
   "outputs": [
    {
     "data": {
      "text/plain": [
       "tensor([[0.7898, 0.4887, 0.1427, 0.5055],\n",
       "        [0.6349, 0.5992, 0.1430, 0.4997],\n",
       "        [0.6399, 0.7235, 0.9240, 0.8703],\n",
       "        [0.8515, 0.3718, 0.2119, 0.8705]])"
      ]
     },
     "execution_count": 135,
     "metadata": {},
     "output_type": "execute_result"
    }
   ],
   "source": [
    "tensor = torch.rand(4, 4)\n",
    "tensor"
   ]
  },
  {
   "cell_type": "code",
   "execution_count": 136,
   "id": "f0335fb9",
   "metadata": {},
   "outputs": [
    {
     "name": "stdout",
     "output_type": "stream",
     "text": [
      "First row: tensor([0.7898, 0.4887, 0.1427, 0.5055])\n",
      "First column: tensor([0.7898, 0.6349, 0.6399, 0.8515])\n",
      "Last column: tensor([0.5055, 0.4997, 0.8703, 0.8705])\n"
     ]
    },
    {
     "data": {
      "text/plain": [
       "tensor([[0.7898, 3.0000, 0.1427, 0.5055],\n",
       "        [0.6349, 3.0000, 0.1430, 0.4997],\n",
       "        [0.6399, 3.0000, 0.9240, 0.8703],\n",
       "        [0.8515, 3.0000, 0.2119, 0.8705]])"
      ]
     },
     "execution_count": 136,
     "metadata": {},
     "output_type": "execute_result"
    }
   ],
   "source": [
    "print(f\"First row: {tensor[0]}\")\n",
    "print(f\"First column: {tensor[:, 0]}\")\n",
    "print(f\"Last column: {tensor[..., -1]}\") # ... is used to represent all remaining dimensions\n",
    "\n",
    "# Modifying an entire column's values\n",
    "tensor[:, 1] = 3 # We modify the first column across all the rows\n",
    "tensor"
   ]
  },
  {
   "cell_type": "code",
   "execution_count": 137,
   "id": "bcf56556",
   "metadata": {},
   "outputs": [
    {
     "name": "stdout",
     "output_type": "stream",
     "text": [
      "torch.Size([3, 3, 3])\n"
     ]
    },
    {
     "data": {
      "text/plain": [
       "tensor([[[0.3347, 0.6907, 0.7338],\n",
       "         [0.2613, 0.9283, 0.3374],\n",
       "         [0.8587, 0.2528, 0.3943]],\n",
       "\n",
       "        [[0.8303, 0.6093, 0.1812],\n",
       "         [0.5846, 0.2494, 0.2850],\n",
       "         [0.1012, 0.6843, 0.8281]],\n",
       "\n",
       "        [[0.5939, 0.0294, 0.7801],\n",
       "         [0.6515, 0.7517, 0.9103],\n",
       "         [0.7654, 0.5371, 0.6330]]])"
      ]
     },
     "execution_count": 137,
     "metadata": {},
     "output_type": "execute_result"
    }
   ],
   "source": [
    "# A little more about '...'\n",
    "shape = (3, 3, 3, )\n",
    "n_tensor = torch.rand(shape)\n",
    "print(n_tensor.shape)\n",
    "n_tensor"
   ]
  },
  {
   "cell_type": "code",
   "execution_count": 138,
   "id": "a33a7b18",
   "metadata": {},
   "outputs": [
    {
     "name": "stdout",
     "output_type": "stream",
     "text": [
      "First row across the entire tensor:\n",
      "\n",
      " tensor([[0.3347, 0.6907, 0.7338],\n",
      "        [0.8303, 0.6093, 0.1812],\n",
      "        [0.5939, 0.0294, 0.7801]])\n",
      "\n",
      "\n",
      "The first layer of the tensor:\n",
      "\n",
      " tensor([[0.3347, 0.6907, 0.7338],\n",
      "        [0.2613, 0.9283, 0.3374],\n",
      "        [0.8587, 0.2528, 0.3943]])\n"
     ]
    }
   ],
   "source": [
    "print(f\"First row across the entire tensor:\\n\\n {n_tensor[:, 0, :]}\")\n",
    "print(f\"\\n\\nThe first layer of the tensor:\\n\\n {n_tensor[0, :, :]}\")"
   ]
  },
  {
   "cell_type": "markdown",
   "id": "f2173d78",
   "metadata": {},
   "source": [
    "We can simplify the retrieval of the first layer of the tensor by using '...'\n",
    "\n",
    "This currently doesn't seem like it's doing much, but when you're working with n-dimnensional tensors then retrieving the first layer (or the first of anything) would be a tedious process if you had to manually enter ':' for each one"
   ]
  },
  {
   "cell_type": "code",
   "execution_count": 139,
   "id": "d6512870",
   "metadata": {},
   "outputs": [
    {
     "data": {
      "text/plain": [
       "tensor([[0.3347, 0.6907, 0.7338],\n",
       "        [0.2613, 0.9283, 0.3374],\n",
       "        [0.8587, 0.2528, 0.3943]])"
      ]
     },
     "execution_count": 139,
     "metadata": {},
     "output_type": "execute_result"
    }
   ],
   "source": [
    "n_tensor[0, ...] # This returns the same thing as n_tensor[0, :, :]"
   ]
  },
  {
   "cell_type": "markdown",
   "id": "f773e519",
   "metadata": {},
   "source": [
    "## Joining Tensors"
   ]
  },
  {
   "cell_type": "code",
   "execution_count": 140,
   "id": "a5f33eee",
   "metadata": {},
   "outputs": [
    {
     "data": {
      "text/plain": [
       "tensor([[0.7898, 3.0000, 0.1427, 0.5055],\n",
       "        [0.6349, 3.0000, 0.1430, 0.4997],\n",
       "        [0.6399, 3.0000, 0.9240, 0.8703],\n",
       "        [0.8515, 3.0000, 0.2119, 0.8705]])"
      ]
     },
     "execution_count": 140,
     "metadata": {},
     "output_type": "execute_result"
    }
   ],
   "source": [
    "tensor"
   ]
  },
  {
   "cell_type": "code",
   "execution_count": 141,
   "id": "049c2e3e",
   "metadata": {},
   "outputs": [
    {
     "data": {
      "text/plain": [
       "tensor([[0.7898, 3.0000, 0.1427, 0.5055],\n",
       "        [0.6349, 3.0000, 0.1430, 0.4997],\n",
       "        [0.6399, 3.0000, 0.9240, 0.8703],\n",
       "        [0.8515, 3.0000, 0.2119, 0.8705],\n",
       "        [0.7898, 3.0000, 0.1427, 0.5055],\n",
       "        [0.6349, 3.0000, 0.1430, 0.4997],\n",
       "        [0.6399, 3.0000, 0.9240, 0.8703],\n",
       "        [0.8515, 3.0000, 0.2119, 0.8705]])"
      ]
     },
     "execution_count": 141,
     "metadata": {},
     "output_type": "execute_result"
    }
   ],
   "source": [
    "cc_tensor = torch.cat([tensor, tensor])\n",
    "cc_tensor"
   ]
  },
  {
   "cell_type": "markdown",
   "id": "7ab25d22",
   "metadata": {},
   "source": [
    "By default we join tensors by the 0th dimension (we append the next tensor row-wise in case of 2D tensors). We can change the dimension by specifying the 'dim' arg."
   ]
  },
  {
   "cell_type": "code",
   "execution_count": 142,
   "id": "4db2cf7a",
   "metadata": {},
   "outputs": [
    {
     "data": {
      "text/plain": [
       "tensor([[0.7898, 3.0000, 0.1427, 0.5055, 0.7898, 3.0000, 0.1427, 0.5055],\n",
       "        [0.6349, 3.0000, 0.1430, 0.4997, 0.6349, 3.0000, 0.1430, 0.4997],\n",
       "        [0.6399, 3.0000, 0.9240, 0.8703, 0.6399, 3.0000, 0.9240, 0.8703],\n",
       "        [0.8515, 3.0000, 0.2119, 0.8705, 0.8515, 3.0000, 0.2119, 0.8705]])"
      ]
     },
     "execution_count": 142,
     "metadata": {},
     "output_type": "execute_result"
    }
   ],
   "source": [
    "cc_dim_tensor = torch.cat([tensor, tensor], dim=1)\n",
    "cc_dim_tensor"
   ]
  },
  {
   "cell_type": "markdown",
   "id": "91a1c2ba",
   "metadata": {},
   "source": [
    "torch.cat() applies along *existing* dimensions.\n",
    "\n",
    "torch.stack() applies along a *new* dimension."
   ]
  },
  {
   "cell_type": "code",
   "execution_count": 143,
   "id": "ed4a3cef",
   "metadata": {},
   "outputs": [
    {
     "data": {
      "text/plain": [
       "tensor([[[0.7898, 3.0000, 0.1427, 0.5055],\n",
       "         [0.6349, 3.0000, 0.1430, 0.4997],\n",
       "         [0.6399, 3.0000, 0.9240, 0.8703],\n",
       "         [0.8515, 3.0000, 0.2119, 0.8705]],\n",
       "\n",
       "        [[0.7898, 3.0000, 0.1427, 0.5055],\n",
       "         [0.6349, 3.0000, 0.1430, 0.4997],\n",
       "         [0.6399, 3.0000, 0.9240, 0.8703],\n",
       "         [0.8515, 3.0000, 0.2119, 0.8705]]])"
      ]
     },
     "execution_count": 143,
     "metadata": {},
     "output_type": "execute_result"
    }
   ],
   "source": [
    "s_tensor = torch.stack([tensor, tensor]) # This adds a new \"depth\" dimension to our 2D matrix and makes it a 3D matrix\n",
    "s_tensor"
   ]
  },
  {
   "cell_type": "markdown",
   "id": "2b5964d0",
   "metadata": {},
   "source": [
    "The 'dim' arg applies to stack as well and determines the way in which the cards are stacked"
   ]
  },
  {
   "cell_type": "code",
   "execution_count": 144,
   "id": "1ecdc110",
   "metadata": {},
   "outputs": [
    {
     "data": {
      "text/plain": [
       "tensor([[[0.7898, 3.0000, 0.1427, 0.5055],\n",
       "         [0.7898, 3.0000, 0.1427, 0.5055]],\n",
       "\n",
       "        [[0.6349, 3.0000, 0.1430, 0.4997],\n",
       "         [0.6349, 3.0000, 0.1430, 0.4997]],\n",
       "\n",
       "        [[0.6399, 3.0000, 0.9240, 0.8703],\n",
       "         [0.6399, 3.0000, 0.9240, 0.8703]],\n",
       "\n",
       "        [[0.8515, 3.0000, 0.2119, 0.8705],\n",
       "         [0.8515, 3.0000, 0.2119, 0.8705]]])"
      ]
     },
     "execution_count": 144,
     "metadata": {},
     "output_type": "execute_result"
    }
   ],
   "source": [
    "s1_tensor = torch.stack([tensor, tensor], dim=1)\n",
    "s1_tensor"
   ]
  },
  {
   "cell_type": "code",
   "execution_count": 145,
   "id": "ecb72639",
   "metadata": {},
   "outputs": [
    {
     "data": {
      "text/plain": [
       "tensor([[[0.7898, 0.7898],\n",
       "         [3.0000, 3.0000],\n",
       "         [0.1427, 0.1427],\n",
       "         [0.5055, 0.5055]],\n",
       "\n",
       "        [[0.6349, 0.6349],\n",
       "         [3.0000, 3.0000],\n",
       "         [0.1430, 0.1430],\n",
       "         [0.4997, 0.4997]],\n",
       "\n",
       "        [[0.6399, 0.6399],\n",
       "         [3.0000, 3.0000],\n",
       "         [0.9240, 0.9240],\n",
       "         [0.8703, 0.8703]],\n",
       "\n",
       "        [[0.8515, 0.8515],\n",
       "         [3.0000, 3.0000],\n",
       "         [0.2119, 0.2119],\n",
       "         [0.8705, 0.8705]]])"
      ]
     },
     "execution_count": 145,
     "metadata": {},
     "output_type": "execute_result"
    }
   ],
   "source": [
    "s2_tensor = torch.stack([tensor, tensor], dim=2)\n",
    "s2_tensor"
   ]
  },
  {
   "cell_type": "markdown",
   "id": "aaeca105",
   "metadata": {},
   "source": [
    "A simple way to visualize how they would be stacked is to take 2 index cards and:\n",
    "\n",
    "dim=0 : Place both flat on top of each other and look at the top-down view to identify the layers\n",
    "\n",
    "dim=1 : Place both cards standing and side-by-side along the width and look at the top-down view. Take the top half of the index cards as the first layer, and the bottom half as the second layer\n",
    "\n",
    "dim=2 : Similar to dim=1, but place it along the height now and do the same"
   ]
  },
  {
   "cell_type": "markdown",
   "id": "4b5e0d8e",
   "metadata": {},
   "source": [
    "Note that if you do dim=-1 then it would just be the last dimension (in our case dim=2)"
   ]
  },
  {
   "cell_type": "code",
   "execution_count": 146,
   "id": "6a513537",
   "metadata": {},
   "outputs": [
    {
     "data": {
      "text/plain": [
       "tensor([[[0.7898, 0.7898],\n",
       "         [3.0000, 3.0000],\n",
       "         [0.1427, 0.1427],\n",
       "         [0.5055, 0.5055]],\n",
       "\n",
       "        [[0.6349, 0.6349],\n",
       "         [3.0000, 3.0000],\n",
       "         [0.1430, 0.1430],\n",
       "         [0.4997, 0.4997]],\n",
       "\n",
       "        [[0.6399, 0.6399],\n",
       "         [3.0000, 3.0000],\n",
       "         [0.9240, 0.9240],\n",
       "         [0.8703, 0.8703]],\n",
       "\n",
       "        [[0.8515, 0.8515],\n",
       "         [3.0000, 3.0000],\n",
       "         [0.2119, 0.2119],\n",
       "         [0.8705, 0.8705]]])"
      ]
     },
     "execution_count": 146,
     "metadata": {},
     "output_type": "execute_result"
    }
   ],
   "source": [
    "slast_tensor = torch.stack([tensor, tensor], dim=-1)\n",
    "slast_tensor"
   ]
  },
  {
   "cell_type": "markdown",
   "id": "f6c7dcb0",
   "metadata": {},
   "source": [
    "## Arithmetic Operations"
   ]
  },
  {
   "cell_type": "markdown",
   "id": "dddf7285",
   "metadata": {},
   "source": [
    "There are different ways to perform **matrix multiplication** between tensors"
   ]
  },
  {
   "cell_type": "code",
   "execution_count": 147,
   "id": "617c87d6",
   "metadata": {},
   "outputs": [
    {
     "data": {
      "text/plain": [
       "tensor([[2, 1, 1],\n",
       "        [1, 1, 2]])"
      ]
     },
     "execution_count": 147,
     "metadata": {},
     "output_type": "execute_result"
    }
   ],
   "source": [
    "tensor = torch.randint(1, 5, (2, 3)) # When using torch.randint() you have to specify the upper and lower bounds as well as the shape of the tensor\n",
    "tensor"
   ]
  },
  {
   "cell_type": "code",
   "execution_count": 148,
   "id": "4fb7fe30",
   "metadata": {},
   "outputs": [
    {
     "data": {
      "text/plain": [
       "tensor([[6, 5],\n",
       "        [5, 6]])"
      ]
     },
     "execution_count": 148,
     "metadata": {},
     "output_type": "execute_result"
    }
   ],
   "source": [
    "res1 = tensor @ tensor.T # tensor.T denotes the transpose of the tensor\n",
    "res1"
   ]
  },
  {
   "cell_type": "code",
   "execution_count": 149,
   "id": "a4a898a9",
   "metadata": {},
   "outputs": [
    {
     "data": {
      "text/plain": [
       "tensor([[6, 5],\n",
       "        [5, 6]])"
      ]
     },
     "execution_count": 149,
     "metadata": {},
     "output_type": "execute_result"
    }
   ],
   "source": [
    "res2 = tensor.matmul(tensor.T)\n",
    "res2"
   ]
  },
  {
   "cell_type": "code",
   "execution_count": 150,
   "id": "0d021e0d",
   "metadata": {},
   "outputs": [
    {
     "data": {
      "text/plain": [
       "tensor([[6, 5],\n",
       "        [5, 6]])"
      ]
     },
     "execution_count": 150,
     "metadata": {},
     "output_type": "execute_result"
    }
   ],
   "source": [
    "res3 = torch.randint_like(res1, 1, 5) # randint_like should be used in conjuction with randint() tensors as rand_like works with floats not ints\n",
    "torch.matmul(tensor, tensor.T, out=res3) # Specifying the 'out' arg in torch.matmul() allows you to assign the output to a tensor (of matching shape)\n",
    "res3"
   ]
  },
  {
   "cell_type": "markdown",
   "id": "0f95903a",
   "metadata": {},
   "source": [
    "There are different ways to perform **element-wise multiplication** as well."
   ]
  },
  {
   "cell_type": "code",
   "execution_count": 151,
   "id": "e61ea6b2",
   "metadata": {},
   "outputs": [
    {
     "data": {
      "text/plain": [
       "tensor([[4, 1, 1],\n",
       "        [1, 1, 4]])"
      ]
     },
     "execution_count": 151,
     "metadata": {},
     "output_type": "execute_result"
    }
   ],
   "source": [
    "elres1 = tensor * tensor\n",
    "elres1"
   ]
  },
  {
   "cell_type": "code",
   "execution_count": 152,
   "id": "fc3d4f3a",
   "metadata": {},
   "outputs": [
    {
     "data": {
      "text/plain": [
       "tensor([[4, 1, 1],\n",
       "        [1, 1, 4]])"
      ]
     },
     "execution_count": 152,
     "metadata": {},
     "output_type": "execute_result"
    }
   ],
   "source": [
    "elres2 = tensor.mul(tensor)\n",
    "elres2"
   ]
  },
  {
   "cell_type": "code",
   "execution_count": 153,
   "id": "d8e74a29",
   "metadata": {},
   "outputs": [
    {
     "data": {
      "text/plain": [
       "tensor([[4, 1, 1],\n",
       "        [1, 1, 4]])"
      ]
     },
     "execution_count": 153,
     "metadata": {},
     "output_type": "execute_result"
    }
   ],
   "source": [
    "elres3 = torch.randint_like(tensor, 1, 5)\n",
    "torch.mul(tensor, tensor, out=elres3) # Works similar to .matmul()\n",
    "elres3"
   ]
  },
  {
   "cell_type": "markdown",
   "id": "bbb3da4e",
   "metadata": {},
   "source": [
    "When working with single-element tensors, you can convert the single value into a Python numerical value using the item() method"
   ]
  },
  {
   "cell_type": "code",
   "execution_count": 154,
   "id": "c25da17d",
   "metadata": {},
   "outputs": [
    {
     "name": "stdout",
     "output_type": "stream",
     "text": [
      "tensor(8)\n",
      "torch.int64\n"
     ]
    }
   ],
   "source": [
    "agg = tensor.sum()\n",
    "print(agg)\n",
    "print(agg.dtype)"
   ]
  },
  {
   "cell_type": "code",
   "execution_count": 155,
   "id": "98e02b30",
   "metadata": {},
   "outputs": [
    {
     "name": "stdout",
     "output_type": "stream",
     "text": [
      "8\n",
      "<class 'int'>\n"
     ]
    }
   ],
   "source": [
    "agg_item = agg.item()\n",
    "print(agg_item)\n",
    "print(type(agg_item))"
   ]
  },
  {
   "cell_type": "markdown",
   "id": "130fe67b",
   "metadata": {},
   "source": [
    "## In-place Operations"
   ]
  },
  {
   "cell_type": "markdown",
   "id": "c5357ba4",
   "metadata": {},
   "source": [
    "Operations that store the result into the operand are in-place operations and are denoted by a _ suffix."
   ]
  },
  {
   "cell_type": "code",
   "execution_count": 156,
   "id": "1bb2e749",
   "metadata": {},
   "outputs": [
    {
     "data": {
      "text/plain": [
       "tensor([[2, 1, 1],\n",
       "        [1, 1, 2]])"
      ]
     },
     "execution_count": 156,
     "metadata": {},
     "output_type": "execute_result"
    }
   ],
   "source": [
    "tensor"
   ]
  },
  {
   "cell_type": "code",
   "execution_count": 157,
   "id": "ac7f9873",
   "metadata": {},
   "outputs": [
    {
     "data": {
      "text/plain": [
       "tensor([[4, 3, 3],\n",
       "        [3, 3, 4]])"
      ]
     },
     "execution_count": 157,
     "metadata": {},
     "output_type": "execute_result"
    }
   ],
   "source": [
    "tensor.add_(2)"
   ]
  },
  {
   "cell_type": "code",
   "execution_count": 158,
   "id": "91f034db",
   "metadata": {},
   "outputs": [
    {
     "data": {
      "text/plain": [
       "tensor([[4, 3, 3],\n",
       "        [3, 3, 4]])"
      ]
     },
     "execution_count": 158,
     "metadata": {},
     "output_type": "execute_result"
    }
   ],
   "source": [
    "tensor"
   ]
  },
  {
   "cell_type": "markdown",
   "id": "2a9b599b",
   "metadata": {},
   "source": [
    "# Datasets and DataLoaders"
   ]
  },
  {
   "cell_type": "markdown",
   "id": "704596fd",
   "metadata": {},
   "source": [
    "## Loading a dataset"
   ]
  },
  {
   "cell_type": "code",
   "execution_count": 160,
   "id": "b9d2d631",
   "metadata": {},
   "outputs": [
    {
     "name": "stderr",
     "output_type": "stream",
     "text": [
      "100.0%\n",
      "100.0%\n",
      "100.0%\n",
      "100.0%\n"
     ]
    }
   ],
   "source": [
    "training_data = datasets.FashionMNIST(\n",
    "    root=\"data\",\n",
    "    train=True,\n",
    "    download=True,\n",
    "    transform=ToTensor()\n",
    ")"
   ]
  },
  {
   "cell_type": "code",
   "execution_count": 161,
   "id": "7869e04d",
   "metadata": {},
   "outputs": [],
   "source": [
    "test_data = datasets.FashionMNIST(\n",
    "    root=\"data\",\n",
    "    train=False, # When set to false, it will create the dataset from the t10k-* set\n",
    "    download=True,\n",
    "    transform=ToTensor()\n",
    ")"
   ]
  },
  {
   "cell_type": "code",
   "execution_count": 162,
   "id": "69ba6955",
   "metadata": {},
   "outputs": [
    {
     "data": {
      "text/plain": [
       "Dataset FashionMNIST\n",
       "    Number of datapoints: 60000\n",
       "    Root location: data\n",
       "    Split: Train\n",
       "    StandardTransform\n",
       "Transform: ToTensor()"
      ]
     },
     "execution_count": 162,
     "metadata": {},
     "output_type": "execute_result"
    }
   ],
   "source": [
    "training_data"
   ]
  },
  {
   "cell_type": "code",
   "execution_count": 163,
   "id": "390c8bd3",
   "metadata": {},
   "outputs": [
    {
     "data": {
      "text/plain": [
       "Dataset FashionMNIST\n",
       "    Number of datapoints: 10000\n",
       "    Root location: data\n",
       "    Split: Test\n",
       "    StandardTransform\n",
       "Transform: ToTensor()"
      ]
     },
     "execution_count": 163,
     "metadata": {},
     "output_type": "execute_result"
    }
   ],
   "source": [
    "test_data"
   ]
  },
  {
   "cell_type": "markdown",
   "id": "4fb3e83f",
   "metadata": {},
   "source": [
    "## Iterating and Visualizing the Dataset"
   ]
  },
  {
   "cell_type": "markdown",
   "id": "7b054539",
   "metadata": {},
   "source": [
    "The [dataset](https://github.com/zalandoresearch/fashion-mnist) has specified the labels that are associated with our data"
   ]
  },
  {
   "cell_type": "code",
   "execution_count": 164,
   "id": "7a196f94",
   "metadata": {},
   "outputs": [],
   "source": [
    "labels_map = {\n",
    "    0: \"T-Shirt\",\n",
    "    1: \"Trouser\",\n",
    "    2: \"Pullover\",\n",
    "    3: \"Dress\",\n",
    "    4: \"Coat\",\n",
    "    5: \"Sandal\",\n",
    "    6: \"Shirt\",\n",
    "    7: \"Sneaker\",\n",
    "    8: \"Bag\",\n",
    "    9: \"Ankle Boot\",\n",
    "}"
   ]
  },
  {
   "cell_type": "code",
   "execution_count": 170,
   "id": "c623c46a",
   "metadata": {},
   "outputs": [
    {
     "data": {
      "image/png": "[encoded data removed]",
      "text/plain": [
       "<Figure size 1200x1200 with 9 Axes>"
      ]
     },
     "metadata": {},
     "output_type": "display_data"
    }
   ],
   "source": [
    "figure = plt.figure(figsize=(12, 12))\n",
    "cols, rows = 3, 3\n",
    "\n",
    "for i in range(1, cols * rows + 1):\n",
    "    sample_idx = torch.randint(len(training_data), size=(1, )).item()\n",
    "    img, label = training_data[sample_idx]\n",
    "\n",
    "    figure.add_subplot(rows, cols, i)\n",
    "\n",
    "    plt.title(labels_map[label])\n",
    "    plt.axis(\"off\")\n",
    "    plt.imshow(img.squeeze(), cmap=\"gray\")\n",
    "\n",
    "plt.show()"
   ]
  },
  {
   "cell_type": "markdown",
   "id": "87a62a26",
   "metadata": {},
   "source": [
    "## Custom Datasets"
   ]
  },
  {
   "cell_type": "markdown",
   "id": "1c877cbf",
   "metadata": {},
   "source": [
    "A custom dataset must implement 3 functions:\n",
    "- __init__\n",
    "- __len__\n",
    "- __getitem__\n",
    "\n",
    "Their labels are also stored separately in a CSV file"
   ]
  },
  {
   "cell_type": "code",
   "execution_count": 172,
   "id": "624b1850",
   "metadata": {},
   "outputs": [],
   "source": [
    "class CustomImageDataset(Dataset): # Extends Dataset class\n",
    "    def __init__(self, annotations_file, img_dir, transform=None, target_transform=None):\n",
    "        \"\"\"\n",
    "        Runs a single time when instantiating the Dataset object.\n",
    "\n",
    "        Initializes the following:\n",
    "            - Directory containing the images (img_dir)\n",
    "            - Image labels using the annotations_file (img_labels)\n",
    "            - Both transform and target transform\n",
    "        \"\"\"\n",
    "        self.img_labels = pd.read_csv(annotations_file)\n",
    "        self.img_dir = img_dir\n",
    "        self.transform = transform\n",
    "        self.target_transform = target_transform\n",
    "    \n",
    "    def __len__(self):\n",
    "        \"\"\"\n",
    "        Returns the number of samples in our dataset\n",
    "        \"\"\"\n",
    "        return len(self.img_labels)\n",
    "\n",
    "    def __getitem__(self, idx):\n",
    "        \"\"\"\n",
    "        Loads and returns a sample from the dataset at a given index.\n",
    "\n",
    "        Based on the given index, it:\n",
    "            - Identifies the image's location on disk\n",
    "            - Converts the image to a tensor using decode_image\n",
    "            - Retrieves the corresponding label from the CSV data\n",
    "            - Calls the transform functions on them (if specified)\n",
    "        \n",
    "        Finally it returns the tensor image and its corresponding label\n",
    "        \"\"\"\n",
    "        img_path = os.path.join(self.img_dir, self.img_labels.iloc[idx, 0])\n",
    "        image = decode_image(img_path)\n",
    "        label = self.img_labels.iloc[idx, 1]\n",
    "\n",
    "        if self.transform:\n",
    "            image = self.transform(image)\n",
    "        \n",
    "        if self.target_transform:\n",
    "            label = self.target_transform(label)\n",
    "        \n",
    "        return image, label"
   ]
  },
  {
   "cell_type": "markdown",
   "id": "0f5972d8",
   "metadata": {},
   "source": [
    "## Preparing data for training"
   ]
  },
  {
   "cell_type": "markdown",
   "id": "d79798cd",
   "metadata": {},
   "source": [
    "`Dataset` retrieves our dataset's features and labels one sample at a time.\n",
    "\n",
    "While training we want to:\n",
    "    - Pass samples in \"minibatches\",\n",
    "    - Reshuffle data at every epoch to reduce model overfitting\n",
    "    - Use Python's `multiprocessing` module to speed up data retrieval\n",
    "    etc.\n",
    "\n",
    "DataLoader is an iterable that abstracts this complexity into an API"
   ]
  },
  {
   "cell_type": "code",
   "execution_count": 176,
   "id": "e1fd2e15",
   "metadata": {},
   "outputs": [],
   "source": [
    "train_dataloader = DataLoader(training_data, batch_size=64, shuffle=True)\n",
    "test_dataloader = DataLoader(test_data, batch_size=64, shuffle=True)"
   ]
  },
  {
   "cell_type": "code",
   "execution_count": 177,
   "id": "0cb2a664",
   "metadata": {},
   "outputs": [
    {
     "data": {
      "text/plain": [
       "<torch.utils.data.dataloader.DataLoader at 0x18e2bc19290>"
      ]
     },
     "execution_count": 177,
     "metadata": {},
     "output_type": "execute_result"
    }
   ],
   "source": [
    "train_dataloader"
   ]
  },
  {
   "cell_type": "markdown",
   "id": "2b512add",
   "metadata": {},
   "source": [
    "### Iterating through the DataLoader"
   ]
  },
  {
   "cell_type": "code",
   "execution_count": 178,
   "id": "54cbe038",
   "metadata": {},
   "outputs": [],
   "source": [
    "train_features, train_labels = next(iter(train_dataloader))"
   ]
  },
  {
   "cell_type": "code",
   "execution_count": 179,
   "id": "7d0d63d9",
   "metadata": {},
   "outputs": [
    {
     "data": {
      "text/plain": [
       "tensor([[[[0., 0., 0.,  ..., 0., 0., 0.],\n",
       "          [0., 0., 0.,  ..., 0., 0., 0.],\n",
       "          [0., 0., 0.,  ..., 0., 0., 0.],\n",
       "          ...,\n",
       "          [0., 0., 0.,  ..., 0., 0., 0.],\n",
       "          [0., 0., 0.,  ..., 0., 0., 0.],\n",
       "          [0., 0., 0.,  ..., 0., 0., 0.]]],\n",
       "\n",
       "\n",
       "        [[[0., 0., 0.,  ..., 0., 0., 0.],\n",
       "          [0., 0., 0.,  ..., 0., 0., 0.],\n",
       "          [0., 0., 0.,  ..., 0., 0., 0.],\n",
       "          ...,\n",
       "          [0., 0., 0.,  ..., 0., 0., 0.],\n",
       "          [0., 0., 0.,  ..., 0., 0., 0.],\n",
       "          [0., 0., 0.,  ..., 0., 0., 0.]]],\n",
       "\n",
       "\n",
       "        [[[0., 0., 0.,  ..., 0., 0., 0.],\n",
       "          [0., 0., 0.,  ..., 0., 0., 0.],\n",
       "          [0., 0., 0.,  ..., 0., 0., 0.],\n",
       "          ...,\n",
       "          [0., 0., 0.,  ..., 0., 0., 0.],\n",
       "          [0., 0., 0.,  ..., 0., 0., 0.],\n",
       "          [0., 0., 0.,  ..., 0., 0., 0.]]],\n",
       "\n",
       "\n",
       "        ...,\n",
       "\n",
       "\n",
       "        [[[0., 0., 0.,  ..., 0., 0., 0.],\n",
       "          [0., 0., 0.,  ..., 0., 0., 0.],\n",
       "          [0., 0., 0.,  ..., 0., 0., 0.],\n",
       "          ...,\n",
       "          [0., 0., 0.,  ..., 0., 0., 0.],\n",
       "          [0., 0., 0.,  ..., 0., 0., 0.],\n",
       "          [0., 0., 0.,  ..., 0., 0., 0.]]],\n",
       "\n",
       "\n",
       "        [[[0., 0., 0.,  ..., 0., 0., 0.],\n",
       "          [0., 0., 0.,  ..., 0., 0., 0.],\n",
       "          [0., 0., 0.,  ..., 0., 0., 0.],\n",
       "          ...,\n",
       "          [0., 0., 0.,  ..., 0., 0., 0.],\n",
       "          [0., 0., 0.,  ..., 0., 0., 0.],\n",
       "          [0., 0., 0.,  ..., 0., 0., 0.]]],\n",
       "\n",
       "\n",
       "        [[[0., 0., 0.,  ..., 0., 0., 0.],\n",
       "          [0., 0., 0.,  ..., 0., 0., 0.],\n",
       "          [0., 0., 0.,  ..., 0., 0., 0.],\n",
       "          ...,\n",
       "          [0., 0., 0.,  ..., 0., 0., 0.],\n",
       "          [0., 0., 0.,  ..., 0., 0., 0.],\n",
       "          [0., 0., 0.,  ..., 0., 0., 0.]]]])"
      ]
     },
     "execution_count": 179,
     "metadata": {},
     "output_type": "execute_result"
    }
   ],
   "source": [
    "train_features"
   ]
  },
  {
   "cell_type": "code",
   "execution_count": 180,
   "id": "e1246ff0",
   "metadata": {},
   "outputs": [
    {
     "data": {
      "text/plain": [
       "torch.Size([64, 1, 28, 28])"
      ]
     },
     "execution_count": 180,
     "metadata": {},
     "output_type": "execute_result"
    }
   ],
   "source": [
    "train_features.shape"
   ]
  },
  {
   "cell_type": "markdown",
   "id": "c3aa3f9c",
   "metadata": {},
   "source": [
    "Notice that the size of the first batch of our training features data matches the batch_size we provided.\n",
    "\n",
    "And since we specified shuffle=True, after we iterate over all batches the data is shuffled."
   ]
  },
  {
   "cell_type": "code",
   "execution_count": 188,
   "id": "b3d8724b",
   "metadata": {},
   "outputs": [
    {
     "data": {
      "image/png": "[encoded data removed]",
      "text/plain": [
       "<Figure size 640x480 with 1 Axes>"
      ]
     },
     "metadata": {},
     "output_type": "display_data"
    },
    {
     "name": "stdout",
     "output_type": "stream",
     "text": [
      "Label: Pullover\n"
     ]
    }
   ],
   "source": [
    "img = train_features[0].squeeze() # .squeeze() returns a tensor with all specified dimensoins of input of size 1 removed (check below)\n",
    "label = train_labels[0].item() # Our label in this case is a single-element tensor, so we use .item() to convert it into a Python numerical value\n",
    "\n",
    "plt.imshow(img, cmap=\"gray\")\n",
    "plt.show()\n",
    "print(f\"Label: {labels_map[label]}\")"
   ]
  },
  {
   "cell_type": "code",
   "execution_count": 189,
   "id": "dae57cc9",
   "metadata": {},
   "outputs": [
    {
     "data": {
      "text/plain": [
       "torch.Size([1, 28, 28])"
      ]
     },
     "execution_count": 189,
     "metadata": {},
     "output_type": "execute_result"
    }
   ],
   "source": [
    "train_features[0].shape"
   ]
  },
  {
   "cell_type": "code",
   "execution_count": 190,
   "id": "d25ea1f4",
   "metadata": {},
   "outputs": [
    {
     "data": {
      "text/plain": [
       "torch.Size([28, 28])"
      ]
     },
     "execution_count": 190,
     "metadata": {},
     "output_type": "execute_result"
    }
   ],
   "source": [
    "train_features[0].squeeze().shape"
   ]
  },
  {
   "cell_type": "code",
   "execution_count": null,
   "id": "974d6ba9",
   "metadata": {},
   "outputs": [],
   "source": []
  }
 ],
 "metadata": {
  "kernelspec": {
   "display_name": "env",
   "language": "python",
   "name": "python3"
  },
  "language_info": {
   "codemirror_mode": {
    "name": "ipython",
    "version": 3
   },
   "file_extension": ".py",
   "mimetype": "text/x-python",
   "name": "python",
   "nbconvert_exporter": "python",
   "pygments_lexer": "ipython3",
   "version": "3.11.3"
  }
 },
 "nbformat": 4,
 "nbformat_minor": 5
}
